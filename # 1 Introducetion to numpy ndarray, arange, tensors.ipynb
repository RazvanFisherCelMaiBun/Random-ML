{
 "cells": [
  {
   "cell_type": "code",
   "execution_count": null,
   "metadata": {
    "id": "JJgdnUq6QRXX"
   },
   "outputs": [],
   "source": [
    "# Numpy is python library written in C language for working and processing arrays."
   ]
  },
  {
   "cell_type": "code",
   "execution_count": null,
   "metadata": {
    "id": "5ktVj_7cQRXa"
   },
   "outputs": [],
   "source": [
    "# Python Data Science Handbook: p 33 - 96"
   ]
  },
  {
   "cell_type": "code",
   "execution_count": null,
   "metadata": {
    "id": "DdW2VsTCQRXb"
   },
   "outputs": [],
   "source": [
    "# Usually it calls C or CPython code for a faster processing of arrays."
   ]
  },
  {
   "cell_type": "code",
   "execution_count": 1,
   "metadata": {
    "executionInfo": {
     "elapsed": 3,
     "status": "ok",
     "timestamp": 1626007242488,
     "user": {
      "displayName": "Clefos Alexandru",
      "photoUrl": "https://lh3.googleusercontent.com/a-/AOh14GgOIfwhwGz4JifS1CxI9P3J8KUWGig93DZCMG8qiw=s64",
      "userId": "02550456991157245959"
     },
     "user_tz": -180
    },
    "id": "K0VO4unyQRXb"
   },
   "outputs": [],
   "source": [
    "# So, to start working wiht numpy we must firstly import it\n",
    "import numpy as np"
   ]
  },
  {
   "cell_type": "code",
   "execution_count": null,
   "metadata": {
    "id": "eXtMRPgSQRXb"
   },
   "outputs": [],
   "source": [
    "# Let's firstly generate 3 random arrays: a vector, a matrix and a tensor"
   ]
  },
  {
   "cell_type": "code",
   "execution_count": 2,
   "metadata": {
    "executionInfo": {
     "elapsed": 506,
     "status": "ok",
     "timestamp": 1626007257030,
     "user": {
      "displayName": "Clefos Alexandru",
      "photoUrl": "https://lh3.googleusercontent.com/a-/AOh14GgOIfwhwGz4JifS1CxI9P3J8KUWGig93DZCMG8qiw=s64",
      "userId": "02550456991157245959"
     },
     "user_tz": -180
    },
    "id": "D8gIo2lhQRXc"
   },
   "outputs": [],
   "source": [
    "# Setting up the seed\n",
    "np.random.seed(42)\n",
    "\n",
    "vector = np.random.randint(10, size=6)\n",
    "matrix = np.random.randint(10, size = (3, 4))\n",
    "tensor = np.random.randint(10, size = (3, 4 , 5))"
   ]
  },
  {
   "cell_type": "code",
   "execution_count": 3,
   "metadata": {},
   "outputs": [
    {
     "data": {
      "text/plain": [
       "array([[2, 6, 7, 4],\n",
       "       [3, 7, 7, 2],\n",
       "       [5, 4, 1, 7]])"
      ]
     },
     "execution_count": 3,
     "metadata": {},
     "output_type": "execute_result"
    }
   ],
   "source": [
    "matrix"
   ]
  },
  {
   "cell_type": "code",
   "execution_count": 4,
   "metadata": {
    "colab": {
     "base_uri": "https://localhost:8080/"
    },
    "executionInfo": {
     "elapsed": 579,
     "status": "ok",
     "timestamp": 1626007260580,
     "user": {
      "displayName": "Clefos Alexandru",
      "photoUrl": "https://lh3.googleusercontent.com/a-/AOh14GgOIfwhwGz4JifS1CxI9P3J8KUWGig93DZCMG8qiw=s64",
      "userId": "02550456991157245959"
     },
     "user_tz": -180
    },
    "id": "A8R7b9j5QRXc",
    "outputId": "7dfc4547-009f-4fc2-f3a8-5fa300872b97"
   },
   "outputs": [
    {
     "name": "stdout",
     "output_type": "stream",
     "text": [
      "vector - 1\n",
      "matrix - 2\n",
      "tensor - 3\n"
     ]
    }
   ],
   "source": [
    "# ndim - returns the number of dimensions of the array\n",
    "print(f'vector - {vector.ndim}')\n",
    "print(f'matrix - {matrix.ndim}')\n",
    "print(f'tensor - {tensor.ndim}')"
   ]
  },
  {
   "cell_type": "code",
   "execution_count": null,
   "metadata": {
    "id": "IcdkGbAFQRXd",
    "outputId": "51e74ad9-ab39-4270-c910-a35a02324530"
   },
   "outputs": [
    {
     "name": "stdout",
     "output_type": "stream",
     "text": [
      "vector - (6,)\n",
      "matrix - (3, 4)\n",
      "tensor - (3, 4, 5)\n"
     ]
    }
   ],
   "source": [
    "# shape - returhs the shape of the array\n",
    "print(f'vector - {vector.shape}')\n",
    "print(f'matrix - {matrix.shape}')\n",
    "print(f'tensor - {tensor.shape}')"
   ]
  },
  {
   "cell_type": "code",
   "execution_count": null,
   "metadata": {
    "id": "DikKqjcGQRXd",
    "outputId": "a7ad5112-60c7-469b-bcce-49bc8c0fe7dd"
   },
   "outputs": [
    {
     "name": "stdout",
     "output_type": "stream",
     "text": [
      "vector - 6\n",
      "matrix - 12\n",
      "tensor - 60\n"
     ]
    }
   ],
   "source": [
    "# size = returns the number of elements in the array\n",
    "print(f'vector - {vector.size}')\n",
    "print(f'matrix - {matrix.size}')\n",
    "print(f'tensor - {tensor.size}')"
   ]
  },
  {
   "cell_type": "code",
   "execution_count": null,
   "metadata": {
    "id": "3f-43uqNQRXe",
    "outputId": "c3123db6-cae6-4807-ceda-638d78c84f25"
   },
   "outputs": [
    {
     "data": {
      "text/plain": [
       "dtype('int32')"
      ]
     },
     "execution_count": 10,
     "metadata": {
      "tags": []
     },
     "output_type": "execute_result"
    }
   ],
   "source": [
    "# Looking at the data type\n",
    "vector.dtype"
   ]
  },
  {
   "cell_type": "code",
   "execution_count": null,
   "metadata": {
    "id": "cekcBrfSQRXe"
   },
   "outputs": [],
   "source": [
    "# ARRAY INDEXATION"
   ]
  },
  {
   "cell_type": "code",
   "execution_count": null,
   "metadata": {
    "id": "JgEFmU7XQRXe"
   },
   "outputs": [],
   "source": [
    "# To get an element from an array we must us indexes. Indexes start at 0, and they represent\n",
    "# the number of steps that must be taken from the beggining of the array to get an element."
   ]
  },
  {
   "cell_type": "code",
   "execution_count": null,
   "metadata": {
    "id": "T31PchAAQRXe",
    "outputId": "39944249-6619-4961-eb4b-a726c9b9da04"
   },
   "outputs": [
    {
     "data": {
      "text/plain": [
       "6"
      ]
     },
     "execution_count": 13,
     "metadata": {
      "tags": []
     },
     "output_type": "execute_result"
    }
   ],
   "source": [
    "vector[0]"
   ]
  },
  {
   "cell_type": "code",
   "execution_count": null,
   "metadata": {
    "id": "O0RAut_pQRXf",
    "outputId": "703867bb-2a08-4d23-e4d5-55767ce6d890"
   },
   "outputs": [
    {
     "data": {
      "text/plain": [
       "array([2, 6, 7, 4])"
      ]
     },
     "execution_count": 14,
     "metadata": {
      "tags": []
     },
     "output_type": "execute_result"
    }
   ],
   "source": [
    "matrix[0]"
   ]
  },
  {
   "cell_type": "code",
   "execution_count": null,
   "metadata": {
    "id": "6FzyvgWGQRXf",
    "outputId": "2e4e809d-5c8c-4850-d4e5-509484d57c3d"
   },
   "outputs": [
    {
     "data": {
      "text/plain": [
       "array([[5, 1, 4, 0, 9],\n",
       "       [5, 8, 0, 9, 2],\n",
       "       [6, 3, 8, 2, 4],\n",
       "       [2, 6, 4, 8, 6]])"
      ]
     },
     "execution_count": 15,
     "metadata": {
      "tags": []
     },
     "output_type": "execute_result"
    }
   ],
   "source": [
    "tensor[0]"
   ]
  },
  {
   "cell_type": "code",
   "execution_count": null,
   "metadata": {
    "id": "mbo09DJ2QRXg"
   },
   "outputs": [],
   "source": [
    "# To get an element from an array with more dimensions than one we must use more indexes"
   ]
  },
  {
   "cell_type": "code",
   "execution_count": null,
   "metadata": {
    "id": "rEEAUT79QRXg",
    "outputId": "80ddfd0b-b6fc-49ee-9465-2dca76ad0da9"
   },
   "outputs": [
    {
     "data": {
      "text/plain": [
       "6"
      ]
     },
     "execution_count": 17,
     "metadata": {
      "tags": []
     },
     "output_type": "execute_result"
    }
   ],
   "source": [
    "matrix[0][1]"
   ]
  },
  {
   "cell_type": "code",
   "execution_count": null,
   "metadata": {
    "id": "vkz-H82uQRXg",
    "outputId": "211021a2-e6bc-486c-ed69-8d4f0da31627"
   },
   "outputs": [
    {
     "data": {
      "text/plain": [
       "array([5, 8, 0, 9, 2])"
      ]
     },
     "execution_count": 18,
     "metadata": {
      "tags": []
     },
     "output_type": "execute_result"
    }
   ],
   "source": [
    "tensor[0][1]"
   ]
  },
  {
   "cell_type": "code",
   "execution_count": null,
   "metadata": {
    "id": "HbqDxB9gQRXg",
    "outputId": "05f4a4d9-cf6f-46d2-e45d-137a799913fa"
   },
   "outputs": [
    {
     "data": {
      "text/plain": [
       "2"
      ]
     },
     "execution_count": 19,
     "metadata": {
      "tags": []
     },
     "output_type": "execute_result"
    }
   ],
   "source": [
    "tensor[0][1][4]"
   ]
  },
  {
   "cell_type": "code",
   "execution_count": null,
   "metadata": {
    "id": "eUM98CaFQRXh"
   },
   "outputs": [],
   "source": [
    "# USING SLICES TO GET MORE ELEMENTS."
   ]
  },
  {
   "cell_type": "code",
   "execution_count": null,
   "metadata": {
    "id": "N0iuZDWUQRXh",
    "outputId": "48585e55-3561-4e1e-ad09-ff915e0e0d75"
   },
   "outputs": [
    {
     "data": {
      "text/plain": [
       "array([6, 3, 7])"
      ]
     },
     "execution_count": 21,
     "metadata": {
      "tags": []
     },
     "output_type": "execute_result"
    }
   ],
   "source": [
    "# Getting the first 3 elements of the array\n",
    "vector[:3]"
   ]
  },
  {
   "cell_type": "code",
   "execution_count": null,
   "metadata": {
    "id": "iEjRIcMRQRXh",
    "outputId": "766b4680-189d-44e8-de7f-b7988d26c9bc"
   },
   "outputs": [
    {
     "data": {
      "text/plain": [
       "array([4, 6, 9])"
      ]
     },
     "execution_count": 22,
     "metadata": {
      "tags": []
     },
     "output_type": "execute_result"
    }
   ],
   "source": [
    "# Getting the last 3 elemetns\n",
    "vector[3:]"
   ]
  },
  {
   "cell_type": "code",
   "execution_count": null,
   "metadata": {
    "id": "2dL6iDsDQRXh",
    "outputId": "908fc2a2-0f74-4230-8e10-3b0ce87fa922"
   },
   "outputs": [
    {
     "data": {
      "text/plain": [
       "array([6, 7, 6])"
      ]
     },
     "execution_count": 23,
     "metadata": {
      "tags": []
     },
     "output_type": "execute_result"
    }
   ],
   "source": [
    "# Getting all every 2 element\n",
    "vector[::2]"
   ]
  },
  {
   "cell_type": "code",
   "execution_count": null,
   "metadata": {
    "id": "fMkI38coQRXi"
   },
   "outputs": [],
   "source": [
    "# In matrices and tensors we can use slices to get the value of only some columns of rows"
   ]
  },
  {
   "cell_type": "code",
   "execution_count": 4,
   "metadata": {
    "id": "QovTsr9YQRXi",
    "outputId": "77ca2624-d3cc-4eab-b4b9-7effbe536a4c"
   },
   "outputs": [
    {
     "data": {
      "text/plain": [
       "array([[2, 7],\n",
       "       [3, 7],\n",
       "       [5, 1]])"
      ]
     },
     "execution_count": 4,
     "metadata": {},
     "output_type": "execute_result"
    }
   ],
   "source": [
    "# For exemple let's get only the even column\n",
    "matrix[:, ::2]"
   ]
  },
  {
   "cell_type": "code",
   "execution_count": 5,
   "metadata": {
    "id": "wM1ukITNQRXi",
    "outputId": "0da9bad6-4232-4b5a-f96a-562c5342972c"
   },
   "outputs": [
    {
     "data": {
      "text/plain": [
       "array([[2, 6, 7],\n",
       "       [3, 7, 7],\n",
       "       [5, 4, 1]])"
      ]
     },
     "execution_count": 5,
     "metadata": {},
     "output_type": "execute_result"
    }
   ],
   "source": [
    "# Or only the first half of columns\n",
    "matrix[:, :3]"
   ]
  },
  {
   "cell_type": "code",
   "execution_count": null,
   "metadata": {
    "id": "BpyAIoNUQRXi",
    "outputId": "727dbb64-c7a5-420d-ec3b-688d1dcabab5"
   },
   "outputs": [
    {
     "data": {
      "text/plain": [
       "array([ 6, 99,  7,  4,  6,  9])"
      ]
     },
     "execution_count": 27,
     "metadata": {
      "tags": []
     },
     "output_type": "execute_result"
    }
   ],
   "source": [
    "# Changing the values in an array.\n",
    "vector[1] = 99\n",
    "vector"
   ]
  },
  {
   "cell_type": "code",
   "execution_count": null,
   "metadata": {
    "id": "9gudCxvfQRXj"
   },
   "outputs": [],
   "source": [
    "# also we can change more vlues using slices\n",
    "matrix[:, 0] = np.zeros(3)"
   ]
  },
  {
   "cell_type": "code",
   "execution_count": null,
   "metadata": {
    "id": "nkMmrZ1KQRXj",
    "outputId": "1edd435d-a9f8-4db1-a516-f9edc0ba12c0"
   },
   "outputs": [
    {
     "data": {
      "text/plain": [
       "array([[0, 6, 7, 4],\n",
       "       [0, 7, 7, 2],\n",
       "       [0, 4, 1, 7]])"
      ]
     },
     "execution_count": 29,
     "metadata": {
      "tags": []
     },
     "output_type": "execute_result"
    }
   ],
   "source": [
    "matrix"
   ]
  },
  {
   "cell_type": "code",
   "execution_count": null,
   "metadata": {
    "id": "O9Bh1lBeQRXj"
   },
   "outputs": [],
   "source": [
    "# np.zeros and np.ones allows to create arrays with zeros or only with ones"
   ]
  },
  {
   "cell_type": "code",
   "execution_count": null,
   "metadata": {
    "id": "BYEFl8oUQRXj",
    "outputId": "f368bd23-1c51-42a5-ccaf-694e93e26522"
   },
   "outputs": [
    {
     "data": {
      "text/plain": [
       "array([0., 0., 0.])"
      ]
     },
     "execution_count": 31,
     "metadata": {
      "tags": []
     },
     "output_type": "execute_result"
    }
   ],
   "source": [
    "# Let's create a zero filled vector.\n",
    "np.zeros(3)"
   ]
  },
  {
   "cell_type": "code",
   "execution_count": null,
   "metadata": {
    "id": "4e0bPvfyQRXj",
    "outputId": "c274bf82-88a8-4282-d228-9e1e2e31b146"
   },
   "outputs": [
    {
     "data": {
      "text/plain": [
       "array([[0., 0., 0., 0.],\n",
       "       [0., 0., 0., 0.]])"
      ]
     },
     "execution_count": 32,
     "metadata": {
      "tags": []
     },
     "output_type": "execute_result"
    }
   ],
   "source": [
    "# If we will pass tuple of values the function will create an array with more dimensions\n",
    "np.zeros((2, 4))"
   ]
  },
  {
   "cell_type": "code",
   "execution_count": null,
   "metadata": {
    "id": "SRbg4TVhQRXk",
    "outputId": "8418e5aa-b932-4d66-cf1a-98edf785f5cb"
   },
   "outputs": [
    {
     "data": {
      "text/plain": [
       "array([1., 1., 1., 1.])"
      ]
     },
     "execution_count": 33,
     "metadata": {
      "tags": []
     },
     "output_type": "execute_result"
    }
   ],
   "source": [
    "# By the same logic works and the np.ones functions.\n",
    "np.ones(4)"
   ]
  },
  {
   "cell_type": "code",
   "execution_count": null,
   "metadata": {
    "id": "z35h2esmQRXk",
    "outputId": "52776043-0331-474a-8159-8913e9e4af06"
   },
   "outputs": [
    {
     "data": {
      "text/plain": [
       "array([[1., 1., 1., 1.],\n",
       "       [1., 1., 1., 1.]])"
      ]
     },
     "execution_count": 34,
     "metadata": {
      "tags": []
     },
     "output_type": "execute_result"
    }
   ],
   "source": [
    "# The same will take place if we will pass a tuple.\n",
    "np.ones((2, 4))"
   ]
  },
  {
   "cell_type": "code",
   "execution_count": null,
   "metadata": {
    "id": "JqpfS7u1QRXk"
   },
   "outputs": [],
   "source": [
    "# CREATION OF COPIES"
   ]
  },
  {
   "cell_type": "code",
   "execution_count": null,
   "metadata": {
    "id": "2zFbturBQRXk"
   },
   "outputs": [],
   "source": [
    " "
   ]
  },
  {
   "cell_type": "code",
   "execution_count": null,
   "metadata": {
    "id": "8a97hx7CQRXk"
   },
   "outputs": [],
   "source": [
    "fake_copy = vector"
   ]
  },
  {
   "cell_type": "code",
   "execution_count": null,
   "metadata": {
    "id": "keTyxAiOQRXl",
    "outputId": "0bc5df54-0b0f-4c9c-8c35-c3e77ad2cd8a"
   },
   "outputs": [
    {
     "name": "stdout",
     "output_type": "stream",
     "text": [
      "2040425261536\n",
      "2040425261536\n"
     ]
    }
   ],
   "source": [
    "# Let's verify their ids, or memory adresses\n",
    "print(id(fake_copy))\n",
    "print(id(vector))"
   ]
  },
  {
   "cell_type": "code",
   "execution_count": null,
   "metadata": {
    "id": "xDRdsyTqQRXl"
   },
   "outputs": [],
   "source": [
    "# They are pointing to the same memory cell."
   ]
  },
  {
   "cell_type": "code",
   "execution_count": null,
   "metadata": {
    "id": "XxsXLj16QRXl"
   },
   "outputs": [],
   "source": [
    "# So this is a fake copy, to create a real one copy, we should use the copy function\n",
    "real_copy = vector.copy()"
   ]
  },
  {
   "cell_type": "code",
   "execution_count": null,
   "metadata": {
    "id": "dUi4eyMLQRXl",
    "outputId": "ac266bce-d3f4-43c3-8975-82d4421f1f9a"
   },
   "outputs": [
    {
     "name": "stdout",
     "output_type": "stream",
     "text": [
      "2040439290816\n",
      "2040425261536\n"
     ]
    }
   ],
   "source": [
    "print(id(real_copy))\n",
    "print(id(vector))"
   ]
  },
  {
   "cell_type": "code",
   "execution_count": null,
   "metadata": {
    "id": "hWnulhKFQRXl"
   },
   "outputs": [],
   "source": [
    "# Now le's see the difference."
   ]
  },
  {
   "cell_type": "code",
   "execution_count": null,
   "metadata": {
    "id": "4sm7FATVQRXl",
    "outputId": "09f12303-6f72-440c-cf68-5fb4e451a2dd"
   },
   "outputs": [
    {
     "name": "stdout",
     "output_type": "stream",
     "text": [
      "[0 8 6 8 7 0]\n",
      "[0 8 6 8 7 0]\n",
      "[0 8 6 8 7 0]\n"
     ]
    }
   ],
   "source": [
    "print(vector)\n",
    "print(fake_copy)\n",
    "print(real_copy)"
   ]
  },
  {
   "cell_type": "code",
   "execution_count": null,
   "metadata": {
    "id": "J4Wi_iD1QRXm"
   },
   "outputs": [],
   "source": [
    "# Let's change the vector and see what happens\n",
    "vector[0] = 99"
   ]
  },
  {
   "cell_type": "code",
   "execution_count": null,
   "metadata": {
    "id": "H_i3Y4IPQRXm",
    "outputId": "46ecce96-c103-4b5d-8d5b-8e3df20238f2"
   },
   "outputs": [
    {
     "name": "stdout",
     "output_type": "stream",
     "text": [
      "[99  8  6  8  7  0]\n",
      "[99  8  6  8  7  0]\n",
      "[0 8 6 8 7 0]\n"
     ]
    }
   ],
   "source": [
    "print(vector)\n",
    "print(fake_copy)\n",
    "print(real_copy)"
   ]
  },
  {
   "cell_type": "code",
   "execution_count": null,
   "metadata": {
    "id": "8bpywjfIQRXm"
   },
   "outputs": [],
   "source": [
    "# As you can see the fake_copy array also changed itself."
   ]
  },
  {
   "cell_type": "code",
   "execution_count": null,
   "metadata": {
    "id": "6Rd1BI-DQRXm"
   },
   "outputs": [],
   "source": [
    "# This happens because in python variables aren't boxes but stickers to boxes.\n",
    "# Meaning that by creatting a fake copy you are just sticking another sticker to a box."
   ]
  },
  {
   "cell_type": "code",
   "execution_count": null,
   "metadata": {
    "id": "1tE0Uf6_QRXm"
   },
   "outputs": [],
   "source": [
    "# CONCATENATION AND SPLITTING"
   ]
  },
  {
   "cell_type": "code",
   "execution_count": null,
   "metadata": {
    "id": "jpqKrOgXQRXn"
   },
   "outputs": [],
   "source": [
    "# Concatenation means sticking of 2 or more arrays in one."
   ]
  },
  {
   "cell_type": "code",
   "execution_count": 10,
   "metadata": {
    "id": "1SC7_47SQRXn",
    "outputId": "ee25807c-01c5-409d-8be0-c2cac216f510"
   },
   "outputs": [
    {
     "data": {
      "text/plain": [
       "array([1, 2, 3, 4, 5, 6])"
      ]
     },
     "execution_count": 10,
     "metadata": {},
     "output_type": "execute_result"
    }
   ],
   "source": [
    "x1 = np.array([1, 2, 3])\n",
    "x2 = np.array([4, 5, 6])\n",
    "np.concatenate([x1, x2])"
   ]
  },
  {
   "cell_type": "code",
   "execution_count": 11,
   "metadata": {},
   "outputs": [],
   "source": [
    "x1 = np.ones(10)"
   ]
  },
  {
   "cell_type": "code",
   "execution_count": 12,
   "metadata": {},
   "outputs": [
    {
     "data": {
      "text/plain": [
       "array([1., 1., 1., 1., 1., 1., 1., 1., 1., 1.])"
      ]
     },
     "execution_count": 12,
     "metadata": {},
     "output_type": "execute_result"
    }
   ],
   "source": [
    "x1"
   ]
  },
  {
   "cell_type": "code",
   "execution_count": 14,
   "metadata": {},
   "outputs": [
    {
     "data": {
      "text/plain": [
       "array([[1., 1.],\n",
       "       [1., 1.],\n",
       "       [1., 1.],\n",
       "       [1., 1.],\n",
       "       [1., 1.]])"
      ]
     },
     "execution_count": 14,
     "metadata": {},
     "output_type": "execute_result"
    }
   ],
   "source": [
    "x1.reshape(5, 2)"
   ]
  },
  {
   "cell_type": "code",
   "execution_count": 7,
   "metadata": {},
   "outputs": [
    {
     "data": {
      "text/plain": [
       "(3,)"
      ]
     },
     "execution_count": 7,
     "metadata": {},
     "output_type": "execute_result"
    }
   ],
   "source": [
    "x1.shape"
   ]
  },
  {
   "cell_type": "code",
   "execution_count": null,
   "metadata": {
    "id": "UAiDPN7fQRXn"
   },
   "outputs": [],
   "source": [
    "# Also we can concatenate 2d arrays"
   ]
  },
  {
   "cell_type": "code",
   "execution_count": null,
   "metadata": {
    "id": "yyc5mquSQRXn",
    "outputId": "5558ff23-9805-4ab1-b29d-95f62f9a7f4a"
   },
   "outputs": [
    {
     "data": {
      "text/plain": [
       "array([[1, 2, 3],\n",
       "       [4, 5, 6],\n",
       "       [1, 2, 3],\n",
       "       [4, 5, 6]])"
      ]
     },
     "execution_count": 55,
     "metadata": {
      "tags": []
     },
     "output_type": "execute_result"
    }
   ],
   "source": [
    "matrix = np.array([[1, 2, 3],\n",
    "                   [4, 5, 6]])\n",
    "np.concatenate([matrix, matrix])"
   ]
  },
  {
   "cell_type": "code",
   "execution_count": 16,
   "metadata": {
    "id": "Guoxkb7eQRXn",
    "outputId": "7ac4e0ba-7fc4-4b35-db84-7c9573ee9606"
   },
   "outputs": [
    {
     "data": {
      "text/plain": [
       "array([[2, 6, 7, 4],\n",
       "       [3, 7, 7, 2],\n",
       "       [5, 4, 1, 7],\n",
       "       [2, 6, 7, 4],\n",
       "       [3, 7, 7, 2],\n",
       "       [5, 4, 1, 7]])"
      ]
     },
     "execution_count": 16,
     "metadata": {},
     "output_type": "execute_result"
    }
   ],
   "source": [
    "np.concatenate([matrix, matrix])"
   ]
  },
  {
   "cell_type": "code",
   "execution_count": null,
   "metadata": {
    "id": "o-mNeDc-QRXo"
   },
   "outputs": [],
   "source": [
    "# Axis is saying to the function on which axis to concatenate.\n",
    "# axis = 1 - means the columns.\n",
    "# axis = 0 = means on the rows."
   ]
  },
  {
   "cell_type": "code",
   "execution_count": null,
   "metadata": {
    "id": "7Iq73gVnQRXo"
   },
   "outputs": [],
   "source": [
    "# VSTACK AND HSTACK\n",
    "# are used to stack arrays."
   ]
  },
  {
   "cell_type": "code",
   "execution_count": null,
   "metadata": {
    "id": "KOiaYF7TQRXo",
    "outputId": "f797ad1c-da29-469c-a067-ac3f9f41e2f2"
   },
   "outputs": [
    {
     "data": {
      "text/plain": [
       "array([[1, 2, 3],\n",
       "       [4, 5, 6],\n",
       "       [7, 8, 9]])"
      ]
     },
     "execution_count": 59,
     "metadata": {
      "tags": []
     },
     "output_type": "execute_result"
    }
   ],
   "source": [
    "# vstack is used to stack vertically arrays.\n",
    "x = np.array([1, 2, 3])\n",
    "grid = np.array([[4, 5, 6],\n",
    "                 [7, 8, 9]])\n",
    "np.vstack([x, grid])"
   ]
  },
  {
   "cell_type": "code",
   "execution_count": null,
   "metadata": {
    "id": "nFWBVW15QRXo",
    "outputId": "f805da32-133a-4506-addf-b69197407bc3"
   },
   "outputs": [
    {
     "data": {
      "text/plain": [
       "array([[99,  4,  5,  6],\n",
       "       [99,  7,  8,  9]])"
      ]
     },
     "execution_count": 60,
     "metadata": {
      "tags": []
     },
     "output_type": "execute_result"
    }
   ],
   "source": [
    "# hstack is used to stack horizontally arrays.\n",
    "x = np.array([[99],\n",
    "              [99]])\n",
    "np.hstack([x, grid])"
   ]
  },
  {
   "cell_type": "code",
   "execution_count": null,
   "metadata": {
    "id": "IRDbCu-WQRXo"
   },
   "outputs": [],
   "source": [
    "# split, hsplit and vsplit"
   ]
  },
  {
   "cell_type": "code",
   "execution_count": null,
   "metadata": {
    "id": "6kBi24t5QRXp"
   },
   "outputs": [],
   "source": [
    "# np.split allows you to split an array into some ambount of parts\n",
    "x = np.array([1, 2, 3, 4, 5, 6, 7, 8, 9, 10])\n",
    "first, second = np.split(x, [5])"
   ]
  },
  {
   "cell_type": "code",
   "execution_count": null,
   "metadata": {
    "id": "K-w0N0DvQRXp",
    "outputId": "01694090-3e4e-4ac4-dfb5-8f2710a6850c"
   },
   "outputs": [
    {
     "data": {
      "text/plain": [
       "array([1, 2, 3, 4, 5])"
      ]
     },
     "execution_count": 63,
     "metadata": {
      "tags": []
     },
     "output_type": "execute_result"
    }
   ],
   "source": [
    "first"
   ]
  },
  {
   "cell_type": "code",
   "execution_count": null,
   "metadata": {
    "id": "utq7k8GnQRXp",
    "outputId": "958b9f77-77df-491a-fd22-c7a93d695ede"
   },
   "outputs": [
    {
     "data": {
      "text/plain": [
       "array([ 6,  7,  8,  9, 10])"
      ]
     },
     "execution_count": 64,
     "metadata": {
      "tags": []
     },
     "output_type": "execute_result"
    }
   ],
   "source": [
    "second"
   ]
  },
  {
   "cell_type": "code",
   "execution_count": 20,
   "metadata": {
    "id": "AVDJJPiYQRXp"
   },
   "outputs": [
    {
     "data": {
      "text/plain": [
       "array([[ 0,  1,  2,  3],\n",
       "       [ 4,  5,  6,  7],\n",
       "       [ 8,  9, 10, 11],\n",
       "       [12, 13, 14, 15]])"
      ]
     },
     "execution_count": 20,
     "metadata": {},
     "output_type": "execute_result"
    }
   ],
   "source": [
    "# hsplit and vsplit\n",
    "matrix = np.arange(16).reshape((4, 4))\n",
    "matrix"
   ]
  },
  {
   "cell_type": "code",
   "execution_count": 17,
   "metadata": {},
   "outputs": [
    {
     "data": {
      "text/plain": [
       "range(0, 10)"
      ]
     },
     "execution_count": 17,
     "metadata": {},
     "output_type": "execute_result"
    }
   ],
   "source": []
  },
  {
   "cell_type": "code",
   "execution_count": null,
   "metadata": {
    "id": "G0z9mqZcQRXp",
    "outputId": "4238f832-6178-491d-9adb-f873abe6eae4"
   },
   "outputs": [
    {
     "data": {
      "text/plain": [
       "array([[ 0,  1,  2,  3],\n",
       "       [ 4,  5,  6,  7],\n",
       "       [ 8,  9, 10, 11],\n",
       "       [12, 13, 14, 15]])"
      ]
     },
     "execution_count": 66,
     "metadata": {
      "tags": []
     },
     "output_type": "execute_result"
    }
   ],
   "source": [
    "matrix"
   ]
  },
  {
   "cell_type": "code",
   "execution_count": null,
   "metadata": {
    "id": "lGwtIniPQRXp"
   },
   "outputs": [],
   "source": [
    "upper, lower = np.vsplit(matrix, [2])"
   ]
  },
  {
   "cell_type": "code",
   "execution_count": null,
   "metadata": {
    "id": "g0OwLX1EQRXq",
    "outputId": "839708e4-43ad-4ce6-ab41-c1d21294ada3"
   },
   "outputs": [
    {
     "data": {
      "text/plain": [
       "array([[0, 1, 2, 3],\n",
       "       [4, 5, 6, 7]])"
      ]
     },
     "execution_count": 68,
     "metadata": {
      "tags": []
     },
     "output_type": "execute_result"
    }
   ],
   "source": [
    "upper"
   ]
  },
  {
   "cell_type": "code",
   "execution_count": null,
   "metadata": {
    "id": "GSVaPC64QRXq",
    "outputId": "50241c3a-3bbc-4d0c-eabe-f7efedaf1579"
   },
   "outputs": [
    {
     "data": {
      "text/plain": [
       "array([[ 8,  9, 10, 11],\n",
       "       [12, 13, 14, 15]])"
      ]
     },
     "execution_count": 69,
     "metadata": {
      "tags": []
     },
     "output_type": "execute_result"
    }
   ],
   "source": [
    "lower"
   ]
  },
  {
   "cell_type": "code",
   "execution_count": null,
   "metadata": {
    "id": "hXilBPbLQRXq"
   },
   "outputs": [],
   "source": [
    "left, right = np.hsplit(matrix, [2])"
   ]
  },
  {
   "cell_type": "code",
   "execution_count": null,
   "metadata": {
    "id": "2yNX1JZRQRXq",
    "outputId": "a54b293f-3f0d-4d41-e667-bc2655febf2b"
   },
   "outputs": [
    {
     "data": {
      "text/plain": [
       "array([[ 0,  1],\n",
       "       [ 4,  5],\n",
       "       [ 8,  9],\n",
       "       [12, 13]])"
      ]
     },
     "execution_count": 73,
     "metadata": {
      "tags": []
     },
     "output_type": "execute_result"
    }
   ],
   "source": [
    "left"
   ]
  },
  {
   "cell_type": "code",
   "execution_count": null,
   "metadata": {
    "id": "jr22eGKvQRXq",
    "outputId": "652afb92-9782-4ecb-9f35-746c8090d136"
   },
   "outputs": [
    {
     "data": {
      "text/plain": [
       "array([[ 2,  3],\n",
       "       [ 6,  7],\n",
       "       [10, 11],\n",
       "       [14, 15]])"
      ]
     },
     "execution_count": 74,
     "metadata": {
      "tags": []
     },
     "output_type": "execute_result"
    }
   ],
   "source": [
    "right"
   ]
  },
  {
   "cell_type": "code",
   "execution_count": null,
   "metadata": {
    "id": "GTPbio0QQRXr"
   },
   "outputs": [],
   "source": []
  }
 ],
 "metadata": {
  "colab": {
   "name": "# 1 Introducetion to numpy ndarray, arange, tensors.ipynb",
   "provenance": [],
   "toc_visible": true
  },
  "kernelspec": {
   "display_name": "Python 3",
   "language": "python",
   "name": "python3"
  },
  "language_info": {
   "codemirror_mode": {
    "name": "ipython",
    "version": 3
   },
   "file_extension": ".py",
   "mimetype": "text/x-python",
   "name": "python",
   "nbconvert_exporter": "python",
   "pygments_lexer": "ipython3",
   "version": "3.8.3"
  }
 },
 "nbformat": 4,
 "nbformat_minor": 1
}
