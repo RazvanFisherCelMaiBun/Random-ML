{
 "cells": [
  {
   "cell_type": "code",
   "execution_count": 1,
   "metadata": {},
   "outputs": [],
   "source": [
    "from sklearn.datasets import load_iris\n",
    "from sklearn.linear_model import LogisticRegression"
   ]
  },
  {
   "cell_type": "code",
   "execution_count": 2,
   "metadata": {},
   "outputs": [],
   "source": [
    "# We use the load_iris function that we imported to automatically create a dataset for us\n",
    "# that has a binary target column\n",
    "X, y = load_iris(return_X_y=True)\n",
    "\n",
    "# We create an instance of the LogisticRegression class then automatically call .fit() on it\n",
    "clf = LogisticRegression(random_state=0).fit(X, y)\n",
    "\n",
    "# We use the .predict() function to predict the output of the first two rows\n",
    "print(clf.predict(X[:2, :]))\n",
    "\n",
    "# We use .score to see how well the model performs\n",
    "# Warning! The score should be especially good in this case, because we evaluate the model\n",
    "# on the same data that it was trained on, so the model has seen this data before and memorized it.\n",
    "print(clf.score(X, y))"
   ]
  },
  {
   "cell_type": "code",
   "execution_count": null,
   "metadata": {},
   "outputs": [],
   "source": []
  }
 ],
 "metadata": {
  "kernelspec": {
   "display_name": "Python 3",
   "language": "python",
   "name": "python3"
  },
  "language_info": {
   "codemirror_mode": {
    "name": "ipython",
    "version": 3
   },
   "file_extension": ".py",
   "mimetype": "text/x-python",
   "name": "python",
   "nbconvert_exporter": "python",
   "pygments_lexer": "ipython3",
   "version": "3.8.3"
  }
 },
 "nbformat": 4,
 "nbformat_minor": 4
}
